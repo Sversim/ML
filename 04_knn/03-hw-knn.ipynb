{
  "cells": [
    {
      "cell_type": "markdown",
      "metadata": {
        "colab_type": "text",
        "id": "6E3ZEkkwRk1J"
      },
      "source": [
        "# 6.1 Классификация.Соискатели\n",
        "\n",
        "1. Скачайте этот ноутбук к себе.\n",
        "2. Заполните пропущенные ячейки, отвечая на заданные вопросы. Там должен быть код! (если не сказано обратное)\n",
        "3. Отправьте результат нам\n",
        "\n",
        "### Полезная литература\n",
        "\n",
        "- [ODS - классификация](https://habrahabr.ru/company/ods/blog/322534/)\n",
        "- [Коллаборативная фильтрация - рекомендательная система](https://ru.wikipedia.org/wiki/%D0%9A%D0%BE%D0%BB%D0%BB%D0%B0%D0%B1%D0%BE%D1%80%D0%B0%D1%82%D0%B8%D0%B2%D0%BD%D0%B0%D1%8F_%D1%84%D0%B8%D0%BB%D1%8C%D1%82%D1%80%D0%B0%D1%86%D0%B8%D1%8F)\n",
        "- [Метрики расстояний - косинусная, минковского, проклятье размерности ](http://www.machinelearning.ru/wiki/images/9/9a/Sem1_knn.pdf)\n",
        "- [Offtop: метрики качества рекомендательных систем](https://habrahabr.ru/company/dca/blog/281066/)"
      ]
    },
    {
      "cell_type": "markdown",
      "metadata": {
        "colab_type": "text",
        "id": "2SjTJ7fkRk1N"
      },
      "source": [
        "## kNN - ближайшие соседи (15 баллов)\n",
        "\n",
        "Рассмотрим задачу из соревнования [Amazon Employee Access Challenge](https://www.kaggle.com/c/amazon-employee-access-challenge).\n",
        "\n",
        "В данной задаче предлагается предсказать, будет ли одобрен запрос сотрудника на получение доступа к тому или иному ресурсу. Все признаки являются категориальными."
      ]
    },
    {
      "cell_type": "code",
      "execution_count": 95,
      "metadata": {
        "colab": {},
        "colab_type": "code",
        "id": "Pq1-n6enRk1Q"
      },
      "outputs": [],
      "source": [
        "%matplotlib inline\n",
        "import pandas as pd\n",
        "import numpy as np\n",
        "from matplotlib import pyplot as plt\n",
        "import seaborn as sns\n",
        "from sklearn.model_selection import train_test_split, KFold, cross_val_score\n",
        "from sklearn.neighbors import KNeighborsClassifier\n",
        "from sklearn.metrics import classification_report, confusion_matrix, f1_score\n",
        "from sklearn.preprocessing import scale"
      ]
    },
    {
      "cell_type": "code",
      "execution_count": 96,
      "metadata": {
        "colab": {
          "base_uri": "https://localhost:8080/",
          "height": 204
        },
        "colab_type": "code",
        "id": "1dag_dZ9Rk1c",
        "outputId": "d68ee7d4-9b79-47a9-d255-d4e77dcf4532"
      },
      "outputs": [
        {
          "data": {
            "text/html": [
              "<div>\n",
              "<style scoped>\n",
              "    .dataframe tbody tr th:only-of-type {\n",
              "        vertical-align: middle;\n",
              "    }\n",
              "\n",
              "    .dataframe tbody tr th {\n",
              "        vertical-align: top;\n",
              "    }\n",
              "\n",
              "    .dataframe thead th {\n",
              "        text-align: right;\n",
              "    }\n",
              "</style>\n",
              "<table border=\"1\" class=\"dataframe\">\n",
              "  <thead>\n",
              "    <tr style=\"text-align: right;\">\n",
              "      <th></th>\n",
              "      <th>ACTION</th>\n",
              "      <th>RESOURCE</th>\n",
              "      <th>MGR_ID</th>\n",
              "      <th>ROLE_ROLLUP_1</th>\n",
              "      <th>ROLE_ROLLUP_2</th>\n",
              "      <th>ROLE_DEPTNAME</th>\n",
              "      <th>ROLE_TITLE</th>\n",
              "      <th>ROLE_FAMILY_DESC</th>\n",
              "      <th>ROLE_FAMILY</th>\n",
              "      <th>ROLE_CODE</th>\n",
              "    </tr>\n",
              "  </thead>\n",
              "  <tbody>\n",
              "    <tr>\n",
              "      <th>0</th>\n",
              "      <td>1</td>\n",
              "      <td>39353</td>\n",
              "      <td>85475</td>\n",
              "      <td>117961</td>\n",
              "      <td>118300</td>\n",
              "      <td>123472</td>\n",
              "      <td>117905</td>\n",
              "      <td>117906</td>\n",
              "      <td>290919</td>\n",
              "      <td>117908</td>\n",
              "    </tr>\n",
              "    <tr>\n",
              "      <th>1</th>\n",
              "      <td>1</td>\n",
              "      <td>17183</td>\n",
              "      <td>1540</td>\n",
              "      <td>117961</td>\n",
              "      <td>118343</td>\n",
              "      <td>123125</td>\n",
              "      <td>118536</td>\n",
              "      <td>118536</td>\n",
              "      <td>308574</td>\n",
              "      <td>118539</td>\n",
              "    </tr>\n",
              "    <tr>\n",
              "      <th>2</th>\n",
              "      <td>1</td>\n",
              "      <td>36724</td>\n",
              "      <td>14457</td>\n",
              "      <td>118219</td>\n",
              "      <td>118220</td>\n",
              "      <td>117884</td>\n",
              "      <td>117879</td>\n",
              "      <td>267952</td>\n",
              "      <td>19721</td>\n",
              "      <td>117880</td>\n",
              "    </tr>\n",
              "    <tr>\n",
              "      <th>3</th>\n",
              "      <td>1</td>\n",
              "      <td>36135</td>\n",
              "      <td>5396</td>\n",
              "      <td>117961</td>\n",
              "      <td>118343</td>\n",
              "      <td>119993</td>\n",
              "      <td>118321</td>\n",
              "      <td>240983</td>\n",
              "      <td>290919</td>\n",
              "      <td>118322</td>\n",
              "    </tr>\n",
              "    <tr>\n",
              "      <th>4</th>\n",
              "      <td>1</td>\n",
              "      <td>42680</td>\n",
              "      <td>5905</td>\n",
              "      <td>117929</td>\n",
              "      <td>117930</td>\n",
              "      <td>119569</td>\n",
              "      <td>119323</td>\n",
              "      <td>123932</td>\n",
              "      <td>19793</td>\n",
              "      <td>119325</td>\n",
              "    </tr>\n",
              "  </tbody>\n",
              "</table>\n",
              "</div>"
            ],
            "text/plain": [
              "   ACTION  RESOURCE  MGR_ID  ROLE_ROLLUP_1  ROLE_ROLLUP_2  ROLE_DEPTNAME  \\\n",
              "0       1     39353   85475         117961         118300         123472   \n",
              "1       1     17183    1540         117961         118343         123125   \n",
              "2       1     36724   14457         118219         118220         117884   \n",
              "3       1     36135    5396         117961         118343         119993   \n",
              "4       1     42680    5905         117929         117930         119569   \n",
              "\n",
              "   ROLE_TITLE  ROLE_FAMILY_DESC  ROLE_FAMILY  ROLE_CODE  \n",
              "0      117905            117906       290919     117908  \n",
              "1      118536            118536       308574     118539  \n",
              "2      117879            267952        19721     117880  \n",
              "3      118321            240983       290919     118322  \n",
              "4      119323            123932        19793     119325  "
            ]
          },
          "execution_count": 96,
          "metadata": {},
          "output_type": "execute_result"
        }
      ],
      "source": [
        "df = pd.read_csv('../data/amazon.csv.gz')\n",
        "df.head()\n",
        "# ACTION - это целевой признак"
      ]
    },
    {
      "cell_type": "markdown",
      "metadata": {
        "colab_type": "text",
        "id": "PZ85weZTRk1n"
      },
      "source": [
        "Обратим внимание, что выборка не сбалансированная. В качестве метрики качества будем использовать [f1-score](https://en.wikipedia.org/wiki/F1_score). \n",
        "$$F_1 = 2 \\cdot \\frac{\\mathrm{precision} \\cdot \\mathrm{recall}}{\\mathrm{precision} + \\mathrm{recall}}$$\n",
        "\n",
        "$$precision = \\frac{TP}{TP+FP}$$\n",
        "\n",
        "$$recall = \\frac{TP}{TP+FN}$$"
      ]
    },
    {
      "cell_type": "code",
      "execution_count": 97,
      "metadata": {
        "colab": {
          "base_uri": "https://localhost:8080/",
          "height": 313
        },
        "colab_type": "code",
        "id": "geYOEvR5Rk1p",
        "outputId": "a4750a51-1c7d-4a82-d931-c13a8931a061"
      },
      "outputs": [
        {
          "name": "stdout",
          "output_type": "stream",
          "text": [
            "0.9421099209618847\n"
          ]
        },
        {
          "data": {
            "text/plain": [
              "<Axes: xlabel='ACTION', ylabel='count'>"
            ]
          },
          "execution_count": 97,
          "metadata": {},
          "output_type": "execute_result"
        },
        {
          "data": {
            "image/png": "[encoded data removed]",
            "text/plain": [
              "<Figure size 640x480 with 1 Axes>"
            ]
          },
          "metadata": {},
          "output_type": "display_data"
        }
      ],
      "source": [
        "print(df['ACTION'].mean())\n",
        "sns.countplot(x='ACTION', data=df)"
      ]
    },
    {
      "cell_type": "code",
      "execution_count": 98,
      "metadata": {
        "colab": {
          "base_uri": "https://localhost:8080/",
          "height": 187
        },
        "colab_type": "code",
        "id": "0esSU_9iRk1v",
        "outputId": "f97c558c-664a-4a65-b707-ff0e963cb3e3"
      },
      "outputs": [
        {
          "name": "stdout",
          "output_type": "stream",
          "text": [
            "ACTION 2\n",
            "RESOURCE 7518\n",
            "MGR_ID 4243\n",
            "ROLE_ROLLUP_1 128\n",
            "ROLE_ROLLUP_2 177\n",
            "ROLE_DEPTNAME 449\n",
            "ROLE_TITLE 343\n",
            "ROLE_FAMILY_DESC 2358\n",
            "ROLE_FAMILY 67\n",
            "ROLE_CODE 343\n"
          ]
        }
      ],
      "source": [
        "# число значений у признаков\n",
        "for col_name in df.columns:\n",
        "    print(col_name, len(df[col_name].unique()))"
      ]
    },
    {
      "cell_type": "code",
      "execution_count": 99,
      "metadata": {
        "colab": {},
        "colab_type": "code",
        "id": "grv_l7aYRk12"
      },
      "outputs": [],
      "source": [
        "X = df.drop(['ACTION'], axis=1)\n",
        "y = df['ACTION']\n",
        "X_train, X_test, y_train, y_test = train_test_split(X, y, random_state=42, test_size=0.8)"
      ]
    },
    {
      "cell_type": "markdown",
      "metadata": {
        "colab_type": "text",
        "id": "WF-Sqou3Rk19"
      },
      "source": [
        "# Baseline (4 балла)\n",
        "\n",
        "Сразу проверим как ведет себя kNN на неподготовленных данных и без тюнинга. Зафиксируйте `n_neighbors=5`, `p=2`. \n",
        "\n",
        "- создайте экземпляр `KNeighborsClassifier` с указанными параметрами, обучите его методом `fit` и предскажите значения `predict` для треничровчных данных `X_test`.\n",
        "- постройте отчет классификации (classification_report)\n",
        "- постройте confusion matrix и нарисуйте heatmap\n",
        "\n",
        "Обратите внимание на confusion matrix. Какой вывод вы можете сделать из неё? Вспомните лекцию и значение ошибок 1 и 2 рода."
      ]
    },
    {
      "cell_type": "markdown",
      "metadata": {},
      "source": [
        "Ответ: наша модель достаточно часто достаточно часто готова выдавать доступ сотруднику, когда фактически его должны были бы отклонить"
      ]
    },
    {
      "cell_type": "code",
      "execution_count": 100,
      "metadata": {
        "colab": {},
        "colab_type": "code",
        "id": "b0VOmw-gRk2B"
      },
      "outputs": [
        {
          "data": {
            "text/plain": [
              "'              precision    recall  f1-score   support\\n\\n           0       0.22      0.03      0.05      1534\\n           1       0.94      0.99      0.97     24682\\n\\n    accuracy                           0.94     26216\\n   macro avg       0.58      0.51      0.51     26216\\nweighted avg       0.90      0.94      0.91     26216\\n'"
            ]
          },
          "metadata": {},
          "output_type": "display_data"
        },
        {
          "data": {
            "image/png": "[encoded data removed]",
            "text/plain": [
              "<Figure size 800x600 with 2 Axes>"
            ]
          },
          "metadata": {},
          "output_type": "display_data"
        }
      ],
      "source": [
        "# KNN\n",
        "knn = KNeighborsClassifier(n_neighbors=5, p=2)\n",
        "\n",
        "knn.fit(X_train, y_train)\n",
        "\n",
        "y_pred = knn.predict(X_test)\n",
        "\n",
        "# Отчет о классификации\n",
        "classification_report_1 = classification_report(y_test, y_pred)\n",
        "display(classification_report_1)\n",
        "\n",
        "# Построение confusion matrix\n",
        "cm = confusion_matrix(y_test, y_pred)\n",
        "\n",
        "# heatmap\n",
        "plt.figure(figsize=(8, 6))\n",
        "sns.heatmap(cm, annot=True, fmt='d', cmap='Blues', xticklabels=knn.classes_, yticklabels=knn.classes_)\n",
        "plt.title('Confusion Matrix')\n",
        "plt.xlabel('Predicted Labels')\n",
        "plt.ylabel('True Labels')\n",
        "plt.show()"
      ]
    },
    {
      "cell_type": "markdown",
      "metadata": {
        "colab_type": "text",
        "id": "05W_1YtvRk2I"
      },
      "source": [
        "При фиксированном `n_neighbors=10` проверьте значение метрики на кроссвалидации на 5-фолдах для разных значений `p` из `(1,2,4,6)`. При каком значение `p` метрика достигает максимума?\n",
        "\n",
        "При кроссвалидации у вас будет получаться N разных значений метрики. Выводите среднее значение и стандартное отклонение."
      ]
    },
    {
      "cell_type": "code",
      "execution_count": 101,
      "metadata": {
        "colab": {},
        "colab_type": "code",
        "id": "eO5jV0YBuafJ"
      },
      "outputs": [
        {
          "name": "stdout",
          "output_type": "stream",
          "text": [
            "p = 1: mean = 0.9443, std = 0.0010\n",
            "p = 2: mean = 0.9446, std = 0.0008\n",
            "p = 4: mean = 0.9445, std = 0.0009\n",
            "p = 6: mean = 0.9441, std = 0.0006\n",
            "\n",
            " Значение p c максимальной метрикой: 2, mean = 0.9446\n"
          ]
        }
      ],
      "source": [
        "p_values = [1, 2, 4, 6]\n",
        "\n",
        "# Результаты метрик для разных p\n",
        "results = {}\n",
        "\n",
        "for p in p_values:\n",
        "    knn = KNeighborsClassifier(n_neighbors=10, p=p)\n",
        "    \n",
        "    scores = cross_val_score(knn, X_train, y_train, cv=5, scoring='accuracy')\n",
        "    \n",
        "    results[p] = {\n",
        "        'mean': np.mean(scores),\n",
        "        'std': np.std(scores)\n",
        "    }\n",
        "\n",
        "for p, metrics in results.items():\n",
        "    print(f\"p = {p}: mean = {metrics['mean']:.4f}, std = {metrics['std']:.4f}\")\n",
        "\n",
        "# p с максимальной метрикой\n",
        "best_p = max(results, key=lambda k: results[k]['mean'])\n",
        "print(f\"\\n Значение p c максимальной метрикой: {best_p}, mean = {results[best_p]['mean']:.4f}\")"
      ]
    },
    {
      "cell_type": "markdown",
      "metadata": {
        "colab_type": "text",
        "id": "95FbhY1JRk2S"
      },
      "source": [
        "# Счетчики (6 баллов)\n",
        "\n",
        "Очевидно, что предсказывать лейбл объекта, используя при этом метрический алгоритм на категориальных признаках - это ОЧЕНЬ странная затея. Не удивительно что качество ужасное. Необходимо каким-то образом заменить категориальные признаки вещественными:\n",
        "\n",
        "- OneHotEncoding - это когда для каждого признака создают другие N бинарных признаков, где N - это количество категорий у категориального признака.\n",
        "- Счетчики - об это написано в статье http://blogs.technet.com/b/machinelearning/archive/2015/02/17/big-learning-made-easy-with-counts.aspx.\n",
        "\n",
        "Мы реализуем алгоритм Счетчиков. Его нет в sklearn, поэтому придется реализовать самому. \n",
        "\n",
        "Для каждого категориального признака создайте 3 других признака:\n",
        "1. Число `counts` объектов в обучающей выборке с таким же значением признака.\n",
        "2. Число `successes` объектов первого класса ($y = 1$) в обучающей выборке с таким же значением признака.\n",
        "3. Сглаженное отношение двух предыдущих величин: (`successes` + 1) / (`counts` + 2).\n",
        "\n",
        "Поскольку признаки, содержащие информацию о целевой переменной, могут привести к переобучению, может оказаться полезным сделать *фолдинг*: разбить обучающую выборку на $n$ частей, и для $i$-й части считать `counts` и `successes` по всем остальным частям. Для тестовой выборки используются счетчики, посчитанные по всей обучающей выборке. Реализуйте и такой вариант. Можно использовать $n = 3$.\n",
        "\n",
        "Обучение надо проводить только по новым признакам. Изначальные мы не используем.\n",
        "\n",
        "Счетчики нужно считать по `train`, а в `test` использовать эти же счетчики, иначе счетчики будут содержать информацию о всем датасете что приведет к переобучение!\n",
        "\n",
        "Подсказка - вам нужно для каждой колонки посчитать 2 аггрегации - сумму и количество. Для замены конкретного значения посчитанным используйте функцию apply над датафреймом. Простое решение займет около 10 строк кода."
      ]
    },
    {
      "cell_type": "markdown",
      "metadata": {
        "colab_type": "text",
        "id": "peoX3U3iRk2U"
      },
      "source": [
        "![](http://images6.fanpop.com/image/photos/38600000/taiga-iamyourenemy-38620719-282-160.gif)"
      ]
    },
    {
      "cell_type": "code",
      "execution_count": 102,
      "metadata": {
        "colab": {},
        "colab_type": "code",
        "id": "qNzXCuFDWIOm"
      },
      "outputs": [],
      "source": [
        "'''Задание странно сформулировано, поэтому поменял изначальный код\n",
        "Кроме того, заккоментирую эту часть, чтобы она не мешала второй части задания'''\n",
        "\n",
        "# data = pd.DataFrame(index=df.index)\n",
        "\n",
        "\n",
        "# for col_name in df.columns:\n",
        "#     if col_name == 'ACTION':\n",
        "#         continue\n",
        "\n",
        "#     stats = df.groupby(col_name)['ACTION'].agg(['count', 'sum']).rename(columns={'count': 'counts', 'sum': 'successes'})\n",
        "\n",
        "#     data[f'{col_name}_counts'] = df[col_name].map(stats['counts'])\n",
        "#     data[f'{col_name}_successes'] = df[col_name].map(stats['successes'])\n",
        "#     data[f'{col_name}_smooth_ratio'] = (data[f'{col_name}_successes'] + 1) / (data[f'{col_name}_counts'] + 2)"
      ]
    },
    {
      "cell_type": "code",
      "execution_count": 103,
      "metadata": {},
      "outputs": [],
      "source": [
        "# Теперь для фолдов\n",
        "df_train, df_test = train_test_split(df, test_size=0.33, random_state=42, shuffle=True)\n",
        "\n",
        "data = pd.DataFrame(index=df_train.index)\n",
        "\n",
        "n_folds = 3\n",
        "kf = KFold(n_splits=n_folds, shuffle=True, random_state=42)\n",
        "\n",
        "y_train = df_train['ACTION']\n",
        "y_test = df_test['ACTION']\n",
        "\n",
        "for col_name in df.columns:\n",
        "    if col_name == 'ACTION':\n",
        "        continue\n",
        "\n",
        "    # Инициализируем столбцы с нулями\n",
        "    counts = np.zeros(len(df_train))\n",
        "    successes = np.zeros(len(df_train))\n",
        "    \n",
        "    # Фолдинг\n",
        "    for train_idx, val_idx in kf.split(df_train):\n",
        "        train, val = df_train.iloc[train_idx], df_train.iloc[val_idx]   \n",
        "\n",
        "        # Считаем статистики на обучающих фолдах\n",
        "        stats = train.groupby(col_name)['ACTION'].agg(['count', 'sum']).rename(\n",
        "            columns={'count': 'counts', 'sum': 'successes'}\n",
        "        )\n",
        "        \n",
        "        # Применяем статистики к валидационным фолдам\n",
        "        counts[val_idx] = val[col_name].map(stats['counts']).fillna(0).to_numpy()\n",
        "        successes[val_idx] = val[col_name].map(stats['successes']).fillna(0).to_numpy()\n",
        "\n",
        "    data[f'{col_name}_counts'] = counts\n",
        "    data[f'{col_name}_successes'] = successes\n",
        "    data[f'{col_name}_smooth_ratio'] = (successes + 1) / (counts + 2)\n",
        "\n",
        "\n",
        "# Для тестовой выборки считаем статистики по всей обучающей выборке\n",
        "test_data = pd.DataFrame(index=df_test.index)\n",
        "for col_name in df.columns:\n",
        "    if col_name == 'ACTION':\n",
        "        continue\n",
        "\n",
        "    stats = df.groupby(col_name)['ACTION'].agg(['count', 'sum']).rename(\n",
        "        columns={'count': 'counts', 'sum': 'successes'}\n",
        "    )\n",
        "    \n",
        "    test_data[f'{col_name}_counts'] = df_test[col_name].map(stats['counts']).fillna(0).values\n",
        "    test_data[f'{col_name}_successes'] = df_test[col_name].map(stats['successes']).fillna(0).values\n",
        "    test_data[f'{col_name}_smooth_ratio'] = (test_data[f'{col_name}_successes'] + 1) / (test_data[f'{col_name}_counts'] + 2)\n"
      ]
    },
    {
      "cell_type": "markdown",
      "metadata": {
        "colab_type": "text",
        "id": "_LI0_45SRk2b"
      },
      "source": [
        "Проверьте какое качество теперь получается на кроссвалидации для новых данных."
      ]
    },
    {
      "cell_type": "code",
      "execution_count": 104,
      "metadata": {
        "colab": {},
        "colab_type": "code",
        "id": "a2Z4fuXKIfqX"
      },
      "outputs": [],
      "source": [
        "knn.fit(data, y_train)\n",
        "\n",
        "# Предсказания\n",
        "y_pred = knn.predict(test_data)"
      ]
    },
    {
      "cell_type": "markdown",
      "metadata": {
        "colab_type": "text",
        "id": "sLAn1dmIRk2j"
      },
      "source": [
        "- постройте отчет классификации (classification_report)\n",
        "- постройте confusion matrix и нарисуйте heatmap\n",
        "\n",
        "Оцените на сколько улучшилось качество."
      ]
    },
    {
      "cell_type": "code",
      "execution_count": 105,
      "metadata": {},
      "outputs": [
        {
          "name": "stdout",
          "output_type": "stream",
          "text": [
            "Было\n",
            "               precision    recall  f1-score   support\n",
            "\n",
            "           0       0.22      0.03      0.05      1534\n",
            "           1       0.94      0.99      0.97     24682\n",
            "\n",
            "    accuracy                           0.94     26216\n",
            "   macro avg       0.58      0.51      0.51     26216\n",
            "weighted avg       0.90      0.94      0.91     26216\n",
            "\n",
            "Стало\n",
            "               precision    recall  f1-score   support\n",
            "\n",
            "           0       0.03      0.00      0.01       614\n",
            "           1       0.94      0.99      0.97     10200\n",
            "\n",
            "    accuracy                           0.94     10814\n",
            "   macro avg       0.49      0.50      0.49     10814\n",
            "weighted avg       0.89      0.94      0.91     10814\n",
            "\n"
          ]
        },
        {
          "data": {
            "image/png": "[encoded data removed]",
            "text/plain": [
              "<Figure size 800x600 with 2 Axes>"
            ]
          },
          "metadata": {},
          "output_type": "display_data"
        }
      ],
      "source": [
        "if not SIMPLE_VERSION:\n",
        "    classification_report_2 = classification_report(y_test, y_pred)\n",
        "    print(\"Было\\n\", classification_report_1)\n",
        "    print(\"Стало\\n\", classification_report_2)\n",
        "\n",
        "    # Создание confusion matrix\n",
        "    cm = confusion_matrix(y_test, y_pred)\n",
        "\n",
        "    # Визуализация confusion matrix с heatmap\n",
        "    plt.figure(figsize=(8, 6))\n",
        "    sns.heatmap(cm, annot=True, fmt='d', cmap='Blues', xticklabels=['0', '1'], yticklabels=['0', '1'])\n",
        "    plt.xlabel('Предсказанные метки')\n",
        "    plt.ylabel('Истинные метки')\n",
        "    plt.title('Confusion Matrix')\n",
        "    plt.show()\n",
        "\n",
        "    # classification_report_1"
      ]
    },
    {
      "cell_type": "markdown",
      "metadata": {
        "colab_type": "text",
        "id": "xr0h7eJeRk2s"
      },
      "source": [
        "# Co-co-co-combo (5 баллов)\n",
        "\n",
        "Добавьте в исходную выборку парные признаки — то есть для каждой пары $(f_i, f_j)$, $i < j$ исходных категориальных признаков добавьте новый категориальный признак $f_{ij}$, значение которого является конкатенацией значений $f_i$ и $f_j$ (желательно через какой-нибудь специальный символ во избежание коллизий). Посчитайте счетчики для этой выборки, найдите качество метода $k$ ближайших соседей с наилучшим $k$ (с фолдингом и без)."
      ]
    },
    {
      "cell_type": "code",
      "execution_count": 106,
      "metadata": {
        "colab": {},
        "colab_type": "code",
        "id": "WX1unyFARk2t"
      },
      "outputs": [],
      "source": [
        "df_combo = df.copy()\n",
        "# ТУТ ВАШ КОД"
      ]
    },
    {
      "cell_type": "code",
      "execution_count": 107,
      "metadata": {
        "colab": {},
        "colab_type": "code",
        "id": "otoeCnjIRk2z"
      },
      "outputs": [],
      "source": [
        "data_combo = pd.DataFrame(index=df_combo.index)\n",
        "for col_name in df_combo.columns:\n",
        "    if col_name == 'ACTION':\n",
        "        continue\n",
        "    # тут ваш код"
      ]
    },
    {
      "cell_type": "markdown",
      "metadata": {
        "colab_type": "text",
        "id": "jNGOU4pBRk24"
      },
      "source": [
        "- постройте отчет классификации (classification_report)\n",
        "- постройте confusion matrix и нарисуйте heatmap\n",
        "\n",
        "Оцените на сколько улучшилось качество. Не похоже ли это на переобусение?\n",
        "\n",
        "Внимание! Обучение на этом этапе может быть долгим. На i5 16GB кроссвалидация на 5 фолдах заняла 30 минут!"
      ]
    },
    {
      "cell_type": "markdown",
      "metadata": {
        "colab_type": "text",
        "id": "YfXcVDbhjQLC"
      },
      "source": [
        "# Target encoding\n",
        "Допустим, у нас есть категоральный признак х и целевой у; нужно сгруппировать значения признака х по значениям признака у и посчитать среднее. Затем все значения из х заменяем на среднее по соответствующему у.\n",
        "\n",
        "\n",
        "Подробнее написано в статье: https://maxhalford.github.io/blog/target-encoding/\n"
      ]
    },
    {
      "cell_type": "code",
      "execution_count": 108,
      "metadata": {
        "colab": {},
        "colab_type": "code",
        "id": "DDUvy30ldaKK"
      },
      "outputs": [],
      "source": [
        "df_target = df.copy()"
      ]
    },
    {
      "cell_type": "code",
      "execution_count": 109,
      "metadata": {
        "colab": {},
        "colab_type": "code",
        "id": "S9BBzsGdWyJ1"
      },
      "outputs": [],
      "source": [
        "data_target = pd.DataFrame(index=df_target.index)\n",
        "for col_name in df_target.columns:\n",
        "    if col_name == 'ACTION':\n",
        "        continue\n",
        "    # тут ваш код"
      ]
    },
    {
      "cell_type": "markdown",
      "metadata": {
        "colab_type": "text",
        "id": "XT2_pUdiiaVk"
      },
      "source": [
        "Сравните результаты. \n",
        "\n",
        "Какой недостаток есть у target encoding?\n",
        "\n"
      ]
    }
  ],
  "metadata": {
    "colab": {
      "collapsed_sections": [],
      "name": "without_code03_hw_classification .ipynb",
      "provenance": []
    },
    "kernelspec": {
      "display_name": ".venv",
      "language": "python",
      "name": "python3"
    },
    "language_info": {
      "codemirror_mode": {
        "name": "ipython",
        "version": 3
      },
      "file_extension": ".py",
      "mimetype": "text/x-python",
      "name": "python",
      "nbconvert_exporter": "python",
      "pygments_lexer": "ipython3",
      "version": "3.10.4"
    }
  },
  "nbformat": 4,
  "nbformat_minor": 0
}
